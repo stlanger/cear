{
 "cells": [
  {
   "cell_type": "code",
   "execution_count": 1,
   "id": "2d5d9b87-417d-41fd-a843-e351a3633f12",
   "metadata": {},
   "outputs": [
    {
     "name": "stdout",
     "output_type": "stream",
     "text": [
      "[PhysicalDevice(name='/physical_device:GPU:0', device_type='GPU')]\n"
     ]
    }
   ],
   "source": [
    "import os\n",
    "import sys\n",
    "from tqdm import tqdm\n",
    "import pickle\n",
    "import spacy\n",
    "import numpy as np\n",
    "from sklearn.metrics import precision_score, recall_score, f1_score, accuracy_score\n",
    "\n",
    "sys.path.append(\"./loaders\")\n",
    "from ModelTuner import ModelTuner\n",
    "from ChebiLoader import ChebiLoader\n",
    "from CraftLoader import CraftLoader\n",
    "from BC5CDRLoader import BC5CDRLoader\n",
    "from NLMChemLoader import NLMChemLoader\n",
    "\n",
    "nlp = spacy.load(\"en_core_web_lg\")"
   ]
  },
  {
   "cell_type": "code",
   "execution_count": 2,
   "id": "f9f3704e-b064-4537-9cbf-5eaf3f571c23",
   "metadata": {},
   "outputs": [
    {
     "name": "stderr",
     "output_type": "stream",
     "text": [
      "All model checkpoint layers were used when initializing TFElectraForTokenClassification.\n",
      "\n",
      "All the layers of TFElectraForTokenClassification were initialized from the model checkpoint at ./model/chemical_extract_google-electra-base-discriminator.\n",
      "If your task is similar to the task the model of the checkpoint was trained on, you can already use TFElectraForTokenClassification for predictions without further training.\n"
     ]
    }
   ],
   "source": [
    "from IPython.display import display, HTML\n",
    "\n",
    "label_list = [\"O\", \"B-Chemical\", \"I-Chemical\", \"B-role\", \"I-role\"]\n",
    "\n",
    "id2label = {\n",
    "    0: \"O\",\n",
    "    1: \"B-chemical\",\n",
    "    2: \"I-chemical\",\n",
    "    3: \"B-role\",\n",
    "    4: \"I-role\"\n",
    "}\n",
    "    \n",
    "label2id = {\n",
    "    \"O\": 0,\n",
    "    \"B-chemical\": 1,\n",
    "    \"I-chemical\": 2,\n",
    "    \"B-role\": 3,\n",
    "    \"I-role\": 4\n",
    "}\n",
    "\n",
    "\n",
    "tuner = ModelTuner(\"google/electra-base-discriminator\", label_list, id2label, label2id)\n",
    "\n",
    "tuner.load_model(\"./model/chemical_extract_google-electra-base-discriminator\")"
   ]
  },
  {
   "cell_type": "code",
   "execution_count": 3,
   "id": "e459d1a7-8643-4695-b6a1-75a0db0e3cac",
   "metadata": {},
   "outputs": [
    {
     "name": "stdout",
     "output_type": "stream",
     "text": [
      "loading chebi from: /local/sps-local/chebi/chebi.owl\n",
      "\n",
      "loading chemicals and their synonyms\n",
      "loading roles and their synonyms\n",
      "\n",
      "found 409625 chemicals and 14176 roles.\n",
      "Memory usage of ChebiLoader: 5207.80859375 MB\n",
      "loading CRAFT from: ./assets/test/CRAFT\n",
      "collecting chemical entities...\n",
      "collecting text...\n",
      "cutting text into spans and labeling them.\n"
     ]
    },
    {
     "name": "stderr",
     "output_type": "stream",
     "text": [
      "100%|█████████████████████████████████████████████████████████████████████████████████████████████████████████████████████████████████████████████████████████| 19/19 [00:12<00:00,  1.51it/s]\n"
     ]
    },
    {
     "name": "stdout",
     "output_type": "stream",
     "text": [
      "loading NLMChem dataset from: ./assets/test/NLM_Chem_corpus/\n",
      "loading Chebi to add roles which can be lexically found in the text snippets...\n",
      "using 4 as a minimum character length for roles to mark them in the text\n",
      "adding special tokenizer rules for chemical roles in Chebi\n"
     ]
    },
    {
     "name": "stderr",
     "output_type": "stream",
     "text": [
      "100%|█████████████████████████████████████████████████████████████████████████████████████████████████████████████████████████████████████████████████| 14176/14176 [00:03<00:00, 3565.95it/s]\n"
     ]
    },
    {
     "name": "stdout",
     "output_type": "stream",
     "text": [
      "collecting entities\n",
      "NLMChem has 30 files to parse\n"
     ]
    },
    {
     "name": "stderr",
     "output_type": "stream",
     "text": [
      "100%|█████████████████████████████████████████████████████████████████████████████████████████████████████████████████████████████████████████████████████████| 30/30 [01:31<00:00,  3.04s/it]\n"
     ]
    },
    {
     "name": "stdout",
     "output_type": "stream",
     "text": [
      "loaded 6915 spans and the according labels.\n",
      "loading BC5CDR dataset from: ./assets/test/BC5CDR/\n",
      "loading Chebi to add roles which can be lexically found in the text snippets...\n",
      "using 4 as a minimum character length for roles to mark them in the text\n",
      "adding special tokenizer rules for chemical roles in Chebi\n"
     ]
    },
    {
     "name": "stderr",
     "output_type": "stream",
     "text": [
      "100%|█████████████████████████████████████████████████████████████████████████████████████████████████████████████████████████████████████████████████| 14176/14176 [00:03<00:00, 3584.24it/s]\n"
     ]
    },
    {
     "name": "stdout",
     "output_type": "stream",
     "text": [
      "collecting entities\n",
      "BC5CDR has 1 files to parse\n"
     ]
    },
    {
     "name": "stderr",
     "output_type": "stream",
     "text": [
      "100%|███████████████████████████████████████████████████████████████████████████████████████████████████████████████████████████████████████████████████████████| 1/1 [01:00<00:00, 60.02s/it]"
     ]
    },
    {
     "name": "stdout",
     "output_type": "stream",
     "text": [
      "loaded 5214 spans and the according labels.\n"
     ]
    },
    {
     "name": "stderr",
     "output_type": "stream",
     "text": [
      "\n"
     ]
    }
   ],
   "source": [
    "chebi = ChebiLoader(\"/local/sps-local/chebi/chebi.owl\")\n",
    "craft = CraftLoader(\"./assets/test/CRAFT\", chebi)\n",
    "nlm = NLMChemLoader(\"./assets/test/NLM_Chem_corpus/\", chebi)\n",
    "cdr = BC5CDRLoader(\"./assets/test/BC5CDR/\", chebi)"
   ]
  },
  {
   "cell_type": "code",
   "execution_count": 4,
   "id": "012477f4-ea3f-4aa1-b2f6-40cf5f388d5b",
   "metadata": {},
   "outputs": [],
   "source": [
    "html_elems = {\n",
    "    1: (\"<b style='font-size:1.5em;'>\", \"</b>\"),\n",
    "    3: (\"<b style='color:blue; font-size:1.5em;'><i>\",\"</i></b>\")    \n",
    "}\n",
    "\n",
    "def render_as_html(text, specials):\n",
    "    start_dict = {}\n",
    "    end_dict = {}\n",
    "    for s in specials:\n",
    "        start_dict[s[1]] = html_elems[s[0]][0]\n",
    "        end_dict[s[2]] = html_elems[s[0]][1]\n",
    "    html = \"\"    \n",
    "    for i, c  in enumerate(text):                \n",
    "        start_elem = start_dict.get(i, None)\n",
    "        end_elem = end_dict.get(i, None)\n",
    "\n",
    "        if start_elem:\n",
    "            html += start_elem\n",
    "        if end_elem:\n",
    "            html += end_elem\n",
    "        html += c\n",
    "    display(HTML(html))"
   ]
  },
  {
   "cell_type": "code",
   "execution_count": 5,
   "id": "a8fbc6cf-7fc0-40e7-9d38-ebddb1f8d4de",
   "metadata": {},
   "outputs": [],
   "source": [
    "class Stats:\n",
    "    def __init__(self):\n",
    "        self.tp = 0\n",
    "        self.fp = 0\n",
    "        self.fn = 0\n",
    "        self.fp_dict = dict()\n",
    "        self.fn_dict = dict()\n",
    "    def inc_tp(self, c):\n",
    "        self.tp += c\n",
    "    def inc_fp(self, c):\n",
    "        self.fp += c\n",
    "    def inc_fn(self, c):\n",
    "        self.fn += c\n",
    "    def precision(self):\n",
    "        return self.tp / (self.tp + self.fp)\n",
    "    def recall(self):\n",
    "        return self.tp / (self.tp + self.fn)\n",
    "    def f_measure(self):\n",
    "        p = self.precision()\n",
    "        r = self.recall()\n",
    "        return 2 * (p * r) / (p + r)\n",
    "    def add_fp(self, fp_entity):\n",
    "        self.fp_dict[fp_entity] = self.fp_dict.get(fp_entity, 0) + 1\n",
    "    def add_fn(self, fn_entity):\n",
    "        self.fn_dict[fn_entity] = self.fn_dict.get(fn_entity, 0) + 1\n",
    "\n",
    "    def clear(self):\n",
    "        self.tp = 0\n",
    "        self.fp = 0\n",
    "        self.fn = 0\n",
    "        self.fp_dict.clear()\n",
    "        self.fn_dict.clear()\n",
    "    \n",
    "    def __str__(self):\n",
    "        return f\"tp: {self.tp}, fp: {self.fp}, fn: {self.fn} | precision: {self.precision()}, recall: {self.recall()}, f-measure: {self.f_measure()}\"\n",
    "\n",
    "def count_stats(xset, l):\n",
    "    c = 0\n",
    "    for x in xset:\n",
    "        if x[0] == l:\n",
    "            c += 1\n",
    "    return c\n",
    "    \n",
    "\n",
    "def eval_stats(spans, labels, chemstats, rolestats, print_diff=False):\n",
    "    if len(labels) <= 1:\n",
    "        return\n",
    "    \n",
    "    text = ''.join(spans)\n",
    "    pred_specials = set(tuner.infer(text))\n",
    "\n",
    "    text_idx = 0\n",
    "    true_specials = set()\n",
    "    for span, label in zip(spans, labels):\n",
    "        if label > 0:\n",
    "            true_specials.add((label, text_idx, text_idx+len(span)))\n",
    "        text_idx += len(span)\n",
    "\n",
    "    tp = pred_specials.intersection(true_specials)\n",
    "    fp = pred_specials.difference(true_specials)\n",
    "    fn = true_specials.difference(pred_specials)\n",
    "\n",
    "    if len(fp)>1 or len(fn)>1:        \n",
    "        if print_diff: \n",
    "            render_as_html(text, true_specials)\n",
    "            print(\"\")\n",
    "            render_as_html(text, pred_specials)\n",
    "            print(\"\\n--------------------------------------------------------------------\\n\")\n",
    "\n",
    "    for x in fp:        \n",
    "        if x[0] < 3:\n",
    "            chemstats.add_fp(text[x[1]:x[2]])\n",
    "        else:\n",
    "            rolestats.add_fp(text[x[1]:x[2]])\n",
    "    for x in fn:\n",
    "        if x[0] < 3:\n",
    "            chemstats.add_fn(text[x[1]:x[2]])\n",
    "        else:\n",
    "            rolestats.add_fn(text[x[1]:x[2]])    \n",
    "\n",
    "    chemstats.inc_tp(count_stats(tp, 1))\n",
    "    chemstats.inc_fp(count_stats(fp, 1))\n",
    "    chemstats.inc_fn(count_stats(fn, 1))\n",
    "\n",
    "    rolestats.inc_tp(count_stats(tp, 3))\n",
    "    rolestats.inc_fp(count_stats(fp, 3))\n",
    "    rolestats.inc_fn(count_stats(fn, 3))\n",
    "    \n",
    "\n",
    "def print_stats(dataset_spans, dataset_labels):\n",
    "    chemstats = Stats()\n",
    "    rolestats = Stats()\n",
    "    chemstats.clear()\n",
    "    rolestats.clear()\n",
    "    \n",
    "    for spans, labels in tqdm(zip(dataset_spans, dataset_labels), total=len(dataset_labels)):\n",
    "        eval_stats(spans, labels, chemstats, rolestats)\n",
    "\n",
    "    print(\"label/span count:\", len(dataset_spans))\n",
    "    print(\"chems stats:\", chemstats)\n",
    "    print(\"roles stats:\", rolestats)\n",
    "    print(\"fp-chems:\", list(sorted(chemstats.fp_dict.items(), key=lambda item: item[1], reverse=True))[:10])\n",
    "    print(\"fn-chems:\", list(sorted(chemstats.fn_dict.items(), key=lambda item: item[1], reverse=True))[:10])\n",
    "    print()\n",
    "    print(\"fp-roles:\", list(sorted(rolestats.fp_dict.items(), key=lambda item: item[1], reverse=True))[:10])\n",
    "    print(\"fn-roles:\", list(sorted(rolestats.fn_dict.items(), key=lambda item: item[1], reverse=True))[:10])\n"
   ]
  },
  {
   "cell_type": "code",
   "execution_count": 6,
   "id": "a59abee2-97db-4c9d-aac2-6fab3ffb14ef",
   "metadata": {},
   "outputs": [
    {
     "name": "stdout",
     "output_type": "stream",
     "text": [
      "=== BC5CDR-RESULTS ===\n"
     ]
    },
    {
     "name": "stderr",
     "output_type": "stream",
     "text": [
      "100%|█████████████████████████████████████████████████████████████████████████████████████████████████████████████████████████████████████████████████████| 5214/5214 [05:34<00:00, 15.58it/s]\n"
     ]
    },
    {
     "name": "stdout",
     "output_type": "stream",
     "text": [
      "label/span count: 5214\n",
      "chems stats: tp: 4868, fp: 346, fn: 526 | precision: 0.9336401994629843, recall: 0.9024842417500927, f-measure: 0.9177978883861236\n",
      "roles stats: tp: 709, fp: 66, fn: 62 | precision: 0.9148387096774193, recall: 0.9195849546044098, f-measure: 0.9172056921086674\n",
      "fp-chems: [('lipid', 16), ('GEM-P', 8), ('ROS', 8), ('calcium', 7), ('TBPS', 6), ('NS-718', 6), ('lovastatin', 6), ('35S', 5), ('dl-sotalol', 5), ('antidepressants', 4)]\n",
      "fn-chems: [('CCK-8', 11), ('BS', 11), ('contrast', 9), ('AVP', 9), ('GEM', 8), ('APAP', 8), ('LNNA', 8), ('VGB', 8), ('K', 7), ('OCs', 7)]\n",
      "\n",
      "fp-roles: [('neuroleptic', 4), ('androgen', 4), ('progestagens', 3), ('COX-2 inhibitors', 3), ('antagonist', 2), ('diuretic hormone', 2), ('drugs', 2), ('estrogen', 2), ('inhibitor', 2), ('inhibitors', 2)]\n",
      "fn-roles: [('antidepressant', 6), ('antagonist', 5), ('antidepressants', 4), ('inhibitors', 3), ('protective agent', 2), ('hormone', 2), ('diuretic', 2), ('drug', 2), ('anticholinesterases', 2), ('free radical scavengers', 2)]\n",
      "\n",
      "\n",
      "=== NLM-RESULTS ===\n"
     ]
    },
    {
     "name": "stderr",
     "output_type": "stream",
     "text": [
      "100%|█████████████████████████████████████████████████████████████████████████████████████████████████████████████████████████████████████████████████████| 6915/6915 [06:25<00:00, 17.93it/s]\n"
     ]
    },
    {
     "name": "stdout",
     "output_type": "stream",
     "text": [
      "label/span count: 6915\n",
      "chems stats: tp: 6273, fp: 1088, fn: 1821 | precision: 0.8521939953810623, recall: 0.7750185322461083, f-measure: 0.8117761242316404\n",
      "roles stats: tp: 806, fp: 67, fn: 52 | precision: 0.9232531500572738, recall: 0.9393939393939394, f-measure: 0.9312536106296939\n",
      "fp-chems: [('DEX', 66), ('glucose', 40), ('GDP', 37), ('Em', 30), ('3H', 28), ('gemcitabine', 23), ('blood glucose', 23), ('', 22), ('fat', 18), ('2H', 16)]\n",
      "fn-chems: [('PTX', 148), ('BAK', 126), ('CKC', 112), ('Vam3', 94), ('DEX-IND', 78), ('AEATP', 49), ('FCM', 43), ('KS', 40), ('DCP', 37), ('GDP-glucose', 35)]\n",
      "\n",
      "fp-roles: [('biocides', 10), ('Syk inhibitors', 8), ('catalysts', 5), ('', 3), ('buffer', 3), ('neoadjuvant', 3), ('EGFR tyrosine kinase inhibitors', 3), ('anti-infectives', 2), ('preservative', 2), ('acid', 2)]\n",
      "fn-roles: [('inhibitors', 8), ('antidiabetic', 7), ('tyrosine kinase inhibitors', 4), ('Reagents', 3), ('antibiotic', 2), ('antihyperglycemic', 2), ('anti-obesity agent', 2), ('anti-inflammatory agents', 2), ('protecting group', 2), ('Lewis acid', 1)]\n",
      "\n",
      "\n",
      "=== CRAFT-RESULTS ===\n"
     ]
    },
    {
     "name": "stderr",
     "output_type": "stream",
     "text": [
      "100%|█████████████████████████████████████████████████████████████████████████████████████████████████████████████████████████████████████████████████████| 5497/5497 [02:36<00:00, 35.09it/s]"
     ]
    },
    {
     "name": "stdout",
     "output_type": "stream",
     "text": [
      "label/span count: 5497\n",
      "chems stats: tp: 932, fp: 436, fn: 1405 | precision: 0.6812865497076024, recall: 0.39880188275566963, f-measure: 0.5031039136302294\n",
      "roles stats: tp: 205, fp: 53, fn: 64 | precision: 0.7945736434108527, recall: 0.7620817843866171, f-measure: 0.7779886148007591\n",
      "fp-chems: [('PBS', 68), ('huntingtin', 25), ('fat', 14), ('tet', 12), ('polyglutamine', 10), ('paraffin', 8), ('Alcian blue', 8), ('pachytene', 7), ('dextran-FITC', 7), ('FIAU', 7)]\n",
      "fn-chems: [('protein', 285), ('DNA', 113), ('Aβ', 112), ('proteins', 108), ('b', 79), ('RNA', 64), ('mRNA', 47), ('solution', 41), ('molecules', 30), ('peptide', 26)]\n",
      "\n",
      "fp-roles: [('acid', 17), ('agonist', 4), ('inhibitors', 3), ('BMP antagonists', 2), ('BMP antagonist', 2), ('activator', 2), ('inhibitor', 2), ('acids', 2), ('secret', 2), ('eosinophiles', 2)]\n",
      "fn-roles: [('dye', 10), ('chow', 10), ('acidic', 4), ('pigment', 4), ('pigmented', 4), ('PPARδ agonist', 4), ('epitopes', 3), ('toxin', 2), ('antagonists', 2), ('antagonist', 2)]\n",
      "\n",
      "\n"
     ]
    },
    {
     "name": "stderr",
     "output_type": "stream",
     "text": [
      "\n"
     ]
    }
   ],
   "source": [
    "print(\"=== BC5CDR-RESULTS ===\")\n",
    "print_stats(cdr.spans, cdr.labels)\n",
    "print()\n",
    "print()\n",
    "print(\"=== NLM-RESULTS ===\")\n",
    "print_stats(nlm.spans, nlm.labels)\n",
    "print()\n",
    "print()\n",
    "print(\"=== CRAFT-RESULTS ===\")\n",
    "print_stats(craft.spans, craft.labels)\n",
    "print()\n",
    "print()"
   ]
  }
 ],
 "metadata": {
  "kernelspec": {
   "display_name": "Python 3 (ipykernel)",
   "language": "python",
   "name": "python3"
  },
  "language_info": {
   "codemirror_mode": {
    "name": "ipython",
    "version": 3
   },
   "file_extension": ".py",
   "mimetype": "text/x-python",
   "name": "python",
   "nbconvert_exporter": "python",
   "pygments_lexer": "ipython3",
   "version": "3.11.0rc1"
  }
 },
 "nbformat": 4,
 "nbformat_minor": 5
}
